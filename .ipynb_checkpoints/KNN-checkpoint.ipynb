{
 "cells": [
  {
   "cell_type": "code",
   "execution_count": 1,
   "id": "f92bbca2",
   "metadata": {},
   "outputs": [],
   "source": [
    "import numpy as np \n",
    "from sklearn.datasets import load_iris \n",
    "from sklearn.neighbors import KNeighborsClassifier \n",
    "iris_dataset = load_iris() \n",
    "from sklearn.neighbors import KNeighborsClassifier"
   ]
  },
  {
   "cell_type": "code",
   "execution_count": 4,
   "id": "65127d0c",
   "metadata": {},
   "outputs": [
    {
     "name": "stdout",
     "output_type": "stream",
     "text": [
      "dict_keys(['data', 'target', 'frame', 'target_names', 'DESCR', 'feature_names', 'filename', 'data_module'])\n"
     ]
    }
   ],
   "source": [
    "print(iris_dataset.keys()) \n",
    "\n"
   ]
  },
  {
   "cell_type": "code",
   "execution_count": 5,
   "id": "034ef51e",
   "metadata": {},
   "outputs": [
    {
     "name": "stdout",
     "output_type": "stream",
     "text": [
      "['sepal length (cm)', 'sepal width (cm)', 'petal length (cm)', 'petal width (cm)']\n",
      "['setosa' 'versicolor' 'virginica']\n",
      "<class 'numpy.ndarray'>\n",
      "[[5.1 3.5 1.4 0.2]\n",
      " [4.9 3.  1.4 0.2]\n",
      " [4.7 3.2 1.3 0.2]\n",
      " [4.6 3.1 1.5 0.2]\n",
      " [5.  3.6 1.4 0.2]\n",
      " [5.4 3.9 1.7 0.4]\n",
      " [4.6 3.4 1.4 0.3]\n",
      " [5.  3.4 1.5 0.2]\n",
      " [4.4 2.9 1.4 0.2]\n",
      " [4.9 3.1 1.5 0.1]\n",
      " [5.4 3.7 1.5 0.2]\n",
      " [4.8 3.4 1.6 0.2]\n",
      " [4.8 3.  1.4 0.1]\n",
      " [4.3 3.  1.1 0.1]\n",
      " [5.8 4.  1.2 0.2]\n",
      " [5.7 4.4 1.5 0.4]\n",
      " [5.4 3.9 1.3 0.4]\n",
      " [5.1 3.5 1.4 0.3]\n",
      " [5.7 3.8 1.7 0.3]\n",
      " [5.1 3.8 1.5 0.3]\n",
      " [5.4 3.4 1.7 0.2]\n",
      " [5.1 3.7 1.5 0.4]\n",
      " [4.6 3.6 1.  0.2]\n",
      " [5.1 3.3 1.7 0.5]\n",
      " [4.8 3.4 1.9 0.2]\n",
      " [5.  3.  1.6 0.2]\n",
      " [5.  3.4 1.6 0.4]\n",
      " [5.2 3.5 1.5 0.2]\n",
      " [5.2 3.4 1.4 0.2]\n",
      " [4.7 3.2 1.6 0.2]\n",
      " [4.8 3.1 1.6 0.2]\n",
      " [5.4 3.4 1.5 0.4]\n",
      " [5.2 4.1 1.5 0.1]\n",
      " [5.5 4.2 1.4 0.2]\n",
      " [4.9 3.1 1.5 0.2]\n",
      " [5.  3.2 1.2 0.2]\n",
      " [5.5 3.5 1.3 0.2]\n",
      " [4.9 3.6 1.4 0.1]\n",
      " [4.4 3.  1.3 0.2]\n",
      " [5.1 3.4 1.5 0.2]\n",
      " [5.  3.5 1.3 0.3]\n",
      " [4.5 2.3 1.3 0.3]\n",
      " [4.4 3.2 1.3 0.2]\n",
      " [5.  3.5 1.6 0.6]\n",
      " [5.1 3.8 1.9 0.4]\n",
      " [4.8 3.  1.4 0.3]\n",
      " [5.1 3.8 1.6 0.2]\n",
      " [4.6 3.2 1.4 0.2]\n",
      " [5.3 3.7 1.5 0.2]\n",
      " [5.  3.3 1.4 0.2]\n",
      " [7.  3.2 4.7 1.4]\n",
      " [6.4 3.2 4.5 1.5]\n",
      " [6.9 3.1 4.9 1.5]\n",
      " [5.5 2.3 4.  1.3]\n",
      " [6.5 2.8 4.6 1.5]\n",
      " [5.7 2.8 4.5 1.3]\n",
      " [6.3 3.3 4.7 1.6]\n",
      " [4.9 2.4 3.3 1. ]\n",
      " [6.6 2.9 4.6 1.3]\n",
      " [5.2 2.7 3.9 1.4]\n",
      " [5.  2.  3.5 1. ]\n",
      " [5.9 3.  4.2 1.5]\n",
      " [6.  2.2 4.  1. ]\n",
      " [6.1 2.9 4.7 1.4]\n",
      " [5.6 2.9 3.6 1.3]\n",
      " [6.7 3.1 4.4 1.4]\n",
      " [5.6 3.  4.5 1.5]\n",
      " [5.8 2.7 4.1 1. ]\n",
      " [6.2 2.2 4.5 1.5]\n",
      " [5.6 2.5 3.9 1.1]\n",
      " [5.9 3.2 4.8 1.8]\n",
      " [6.1 2.8 4.  1.3]\n",
      " [6.3 2.5 4.9 1.5]\n",
      " [6.1 2.8 4.7 1.2]\n",
      " [6.4 2.9 4.3 1.3]\n",
      " [6.6 3.  4.4 1.4]\n",
      " [6.8 2.8 4.8 1.4]\n",
      " [6.7 3.  5.  1.7]\n",
      " [6.  2.9 4.5 1.5]\n",
      " [5.7 2.6 3.5 1. ]\n",
      " [5.5 2.4 3.8 1.1]\n",
      " [5.5 2.4 3.7 1. ]\n",
      " [5.8 2.7 3.9 1.2]\n",
      " [6.  2.7 5.1 1.6]\n",
      " [5.4 3.  4.5 1.5]\n",
      " [6.  3.4 4.5 1.6]\n",
      " [6.7 3.1 4.7 1.5]\n",
      " [6.3 2.3 4.4 1.3]\n",
      " [5.6 3.  4.1 1.3]\n",
      " [5.5 2.5 4.  1.3]\n",
      " [5.5 2.6 4.4 1.2]\n",
      " [6.1 3.  4.6 1.4]\n",
      " [5.8 2.6 4.  1.2]\n",
      " [5.  2.3 3.3 1. ]\n",
      " [5.6 2.7 4.2 1.3]\n",
      " [5.7 3.  4.2 1.2]\n",
      " [5.7 2.9 4.2 1.3]\n",
      " [6.2 2.9 4.3 1.3]\n",
      " [5.1 2.5 3.  1.1]\n",
      " [5.7 2.8 4.1 1.3]\n",
      " [6.3 3.3 6.  2.5]\n",
      " [5.8 2.7 5.1 1.9]\n",
      " [7.1 3.  5.9 2.1]\n",
      " [6.3 2.9 5.6 1.8]\n",
      " [6.5 3.  5.8 2.2]\n",
      " [7.6 3.  6.6 2.1]\n",
      " [4.9 2.5 4.5 1.7]\n",
      " [7.3 2.9 6.3 1.8]\n",
      " [6.7 2.5 5.8 1.8]\n",
      " [7.2 3.6 6.1 2.5]\n",
      " [6.5 3.2 5.1 2. ]\n",
      " [6.4 2.7 5.3 1.9]\n",
      " [6.8 3.  5.5 2.1]\n",
      " [5.7 2.5 5.  2. ]\n",
      " [5.8 2.8 5.1 2.4]\n",
      " [6.4 3.2 5.3 2.3]\n",
      " [6.5 3.  5.5 1.8]\n",
      " [7.7 3.8 6.7 2.2]\n",
      " [7.7 2.6 6.9 2.3]\n",
      " [6.  2.2 5.  1.5]\n",
      " [6.9 3.2 5.7 2.3]\n",
      " [5.6 2.8 4.9 2. ]\n",
      " [7.7 2.8 6.7 2. ]\n",
      " [6.3 2.7 4.9 1.8]\n",
      " [6.7 3.3 5.7 2.1]\n",
      " [7.2 3.2 6.  1.8]\n",
      " [6.2 2.8 4.8 1.8]\n",
      " [6.1 3.  4.9 1.8]\n",
      " [6.4 2.8 5.6 2.1]\n",
      " [7.2 3.  5.8 1.6]\n",
      " [7.4 2.8 6.1 1.9]\n",
      " [7.9 3.8 6.4 2. ]\n",
      " [6.4 2.8 5.6 2.2]\n",
      " [6.3 2.8 5.1 1.5]\n",
      " [6.1 2.6 5.6 1.4]\n",
      " [7.7 3.  6.1 2.3]\n",
      " [6.3 3.4 5.6 2.4]\n",
      " [6.4 3.1 5.5 1.8]\n",
      " [6.  3.  4.8 1.8]\n",
      " [6.9 3.1 5.4 2.1]\n",
      " [6.7 3.1 5.6 2.4]\n",
      " [6.9 3.1 5.1 2.3]\n",
      " [5.8 2.7 5.1 1.9]\n",
      " [6.8 3.2 5.9 2.3]\n",
      " [6.7 3.3 5.7 2.5]\n",
      " [6.7 3.  5.2 2.3]\n",
      " [6.3 2.5 5.  1.9]\n",
      " [6.5 3.  5.2 2. ]\n",
      " [6.2 3.4 5.4 2.3]\n",
      " [5.9 3.  5.1 1.8]]\n"
     ]
    }
   ],
   "source": [
    "print(iris_dataset['feature_names']) \n",
    "print(iris_dataset['target_names']) \n",
    "print(type(iris_dataset['data'])) \n",
    "print(iris_dataset['data']) "
   ]
  },
  {
   "cell_type": "code",
   "execution_count": 6,
   "id": "55b44aa8",
   "metadata": {},
   "outputs": [
    {
     "name": "stdout",
     "output_type": "stream",
     "text": [
      "[0 0 0 0 0 0 0 0 0 0 0 0 0 0 0 0 0 0 0 0 0 0 0 0 0 0 0 0 0 0 0 0 0 0 0 0 0\n",
      " 0 0 0 0 0 0 0 0 0 0 0 0 0 1 1 1 1 1 1 1 1 1 1 1 1 1 1 1 1 1 1 1 1 1 1 1 1\n",
      " 1 1 1 1 1 1 1 1 1 1 1 1 1 1 1 1 1 1 1 1 1 1 1 1 1 1 2 2 2 2 2 2 2 2 2 2 2\n",
      " 2 2 2 2 2 2 2 2 2 2 2 2 2 2 2 2 2 2 2 2 2 2 2 2 2 2 2 2 2 2 2 2 2 2 2 2 2\n",
      " 2 2]\n"
     ]
    }
   ],
   "source": [
    "print(iris_dataset['target']) "
   ]
  },
  {
   "cell_type": "code",
   "execution_count": 21,
   "id": "ec15c07f",
   "metadata": {},
   "outputs": [],
   "source": [
    "from sklearn.model_selection import train_test_split \n",
    "X_train, X_test, Y_train, Y_test = train_test_split(iris_dataset['data'], iris_dataset['target'] , test_size = 0.2) \n"
   ]
  },
  {
   "cell_type": "code",
   "execution_count": 8,
   "id": "72e38e74",
   "metadata": {},
   "outputs": [
    {
     "name": "stdout",
     "output_type": "stream",
     "text": [
      "[[5.8 2.8 5.1 2.4]\n",
      " [5.5 3.5 1.3 0.2]\n",
      " [5.8 2.7 4.1 1. ]\n",
      " [4.3 3.  1.1 0.1]\n",
      " [4.8 3.  1.4 0.1]\n",
      " [6.4 2.8 5.6 2.2]\n",
      " [5.5 2.5 4.  1.3]\n",
      " [7.6 3.  6.6 2.1]\n",
      " [6.3 3.4 5.6 2.4]\n",
      " [6.6 3.  4.4 1.4]\n",
      " [4.8 3.1 1.6 0.2]\n",
      " [5.9 3.2 4.8 1.8]\n",
      " [6.9 3.1 5.4 2.1]\n",
      " [5.  3.4 1.6 0.4]\n",
      " [6.8 3.  5.5 2.1]\n",
      " [6.3 3.3 6.  2.5]\n",
      " [5.5 2.6 4.4 1.2]\n",
      " [5.4 3.7 1.5 0.2]\n",
      " [6.3 3.3 4.7 1.6]\n",
      " [6.4 2.8 5.6 2.1]\n",
      " [6.8 3.2 5.9 2.3]\n",
      " [5.7 3.  4.2 1.2]\n",
      " [6.8 2.8 4.8 1.4]\n",
      " [5.1 3.8 1.5 0.3]\n",
      " [7.3 2.9 6.3 1.8]\n",
      " [6.2 2.8 4.8 1.8]\n",
      " [4.6 3.1 1.5 0.2]\n",
      " [7.2 3.6 6.1 2.5]\n",
      " [6.5 3.  5.2 2. ]\n",
      " [5.6 2.7 4.2 1.3]\n",
      " [6.1 3.  4.9 1.8]\n",
      " [5.2 4.1 1.5 0.1]\n",
      " [6.4 2.9 4.3 1.3]\n",
      " [5.4 3.4 1.5 0.4]\n",
      " [5.1 3.4 1.5 0.2]\n",
      " [5.4 3.9 1.7 0.4]\n",
      " [5.1 3.5 1.4 0.3]\n",
      " [7.  3.2 4.7 1.4]\n",
      " [6.1 2.6 5.6 1.4]\n",
      " [6.7 3.1 5.6 2.4]\n",
      " [4.9 3.1 1.5 0.2]\n",
      " [5.7 3.8 1.7 0.3]\n",
      " [4.8 3.4 1.9 0.2]\n",
      " [6.4 2.7 5.3 1.9]\n",
      " [5.5 2.4 3.8 1.1]\n",
      " [6.6 2.9 4.6 1.3]\n",
      " [5.5 2.4 3.7 1. ]\n",
      " [4.6 3.2 1.4 0.2]\n",
      " [4.9 2.5 4.5 1.7]\n",
      " [5.8 2.7 5.1 1.9]\n",
      " [5.1 3.5 1.4 0.2]\n",
      " [5.  3.5 1.6 0.6]\n",
      " [4.6 3.4 1.4 0.3]\n",
      " [5.1 2.5 3.  1.1]\n",
      " [5.7 2.9 4.2 1.3]\n",
      " [4.7 3.2 1.6 0.2]\n",
      " [6.  2.7 5.1 1.6]\n",
      " [6.  2.9 4.5 1.5]\n",
      " [5.8 2.6 4.  1.2]\n",
      " [6.4 3.1 5.5 1.8]\n",
      " [6.1 3.  4.6 1.4]\n",
      " [5.6 2.8 4.9 2. ]\n",
      " [6.3 2.5 4.9 1.5]\n",
      " [5.  3.  1.6 0.2]\n",
      " [6.1 2.8 4.7 1.2]\n",
      " [7.2 3.2 6.  1.8]\n",
      " [6.4 3.2 4.5 1.5]\n",
      " [5.4 3.9 1.3 0.4]\n",
      " [4.6 3.6 1.  0.2]\n",
      " [5.2 3.5 1.5 0.2]\n",
      " [5.7 2.8 4.5 1.3]\n",
      " [4.8 3.4 1.6 0.2]\n",
      " [6.3 2.5 5.  1.9]\n",
      " [5.9 3.  5.1 1.8]\n",
      " [7.7 3.  6.1 2.3]\n",
      " [5.6 3.  4.5 1.5]\n",
      " [6.5 3.  5.8 2.2]\n",
      " [5.  3.5 1.3 0.3]\n",
      " [5.4 3.4 1.7 0.2]\n",
      " [5.8 2.7 3.9 1.2]\n",
      " [6.3 2.3 4.4 1.3]\n",
      " [4.5 2.3 1.3 0.3]\n",
      " [6.1 2.9 4.7 1.4]\n",
      " [5.  2.  3.5 1. ]\n",
      " [6.4 3.2 5.3 2.3]\n",
      " [4.7 3.2 1.3 0.2]\n",
      " [6.7 3.1 4.4 1.4]\n",
      " [4.8 3.  1.4 0.3]\n",
      " [6.7 3.  5.2 2.3]\n",
      " [6.7 3.3 5.7 2.5]\n",
      " [4.9 3.1 1.5 0.1]\n",
      " [7.7 3.8 6.7 2.2]\n",
      " [5.1 3.3 1.7 0.5]\n",
      " [5.7 2.6 3.5 1. ]\n",
      " [6.  3.4 4.5 1.6]\n",
      " [5.5 4.2 1.4 0.2]\n",
      " [5.8 2.7 5.1 1.9]\n",
      " [5.2 3.4 1.4 0.2]\n",
      " [5.6 3.  4.1 1.3]\n",
      " [7.9 3.8 6.4 2. ]\n",
      " [7.1 3.  5.9 2.1]\n",
      " [7.4 2.8 6.1 1.9]\n",
      " [4.9 3.  1.4 0.2]\n",
      " [7.7 2.6 6.9 2.3]\n",
      " [5.2 2.7 3.9 1.4]\n",
      " [6.3 2.7 4.9 1.8]\n",
      " [4.4 2.9 1.4 0.2]\n",
      " [6.7 3.1 4.7 1.5]\n",
      " [6.9 3.1 5.1 2.3]\n",
      " [5.  2.3 3.3 1. ]\n",
      " [6.7 3.  5.  1.7]\n",
      " [5.5 2.3 4.  1.3]\n",
      " [5.1 3.7 1.5 0.4]\n",
      " [4.9 3.6 1.4 0.1]\n",
      " [5.4 3.  4.5 1.5]\n",
      " [6.7 2.5 5.8 1.8]\n",
      " [6.1 2.8 4.  1.3]\n",
      " [5.7 2.5 5.  2. ]\n",
      " [6.  3.  4.8 1.8]\n",
      " [6.5 2.8 4.6 1.5]]\n"
     ]
    }
   ],
   "source": [
    "print(X_train) \n"
   ]
  },
  {
   "cell_type": "code",
   "execution_count": 9,
   "id": "e73fc450",
   "metadata": {},
   "outputs": [
    {
     "name": "stdout",
     "output_type": "stream",
     "text": [
      "480\n"
     ]
    }
   ],
   "source": [
    "print(X_train.size) \n"
   ]
  },
  {
   "cell_type": "code",
   "execution_count": 10,
   "id": "b1f44b92",
   "metadata": {},
   "outputs": [
    {
     "data": {
      "text/plain": [
       "(120, 4)"
      ]
     },
     "execution_count": 10,
     "metadata": {},
     "output_type": "execute_result"
    }
   ],
   "source": [
    "X_train.shape \n"
   ]
  },
  {
   "cell_type": "code",
   "execution_count": 11,
   "id": "318b1075",
   "metadata": {},
   "outputs": [
    {
     "data": {
      "text/plain": [
       "(120,)"
      ]
     },
     "execution_count": 11,
     "metadata": {},
     "output_type": "execute_result"
    }
   ],
   "source": [
    "Y_train.shape "
   ]
  },
  {
   "cell_type": "code",
   "execution_count": 12,
   "id": "282bc317",
   "metadata": {},
   "outputs": [
    {
     "data": {
      "text/plain": [
       "(30,)"
      ]
     },
     "execution_count": 12,
     "metadata": {},
     "output_type": "execute_result"
    }
   ],
   "source": [
    "Y_test.shape \n"
   ]
  },
  {
   "cell_type": "code",
   "execution_count": 14,
   "id": "1dd17c03",
   "metadata": {},
   "outputs": [
    {
     "name": "stdout",
     "output_type": "stream",
     "text": [
      "     sepal length (cm)  sepal width (cm)  petal length (cm)  petal width (cm)\n",
      "0                  5.8               2.8                5.1               2.4\n",
      "1                  5.5               3.5                1.3               0.2\n",
      "2                  5.8               2.7                4.1               1.0\n",
      "3                  4.3               3.0                1.1               0.1\n",
      "4                  4.8               3.0                1.4               0.1\n",
      "..                 ...               ...                ...               ...\n",
      "115                6.7               2.5                5.8               1.8\n",
      "116                6.1               2.8                4.0               1.3\n",
      "117                5.7               2.5                5.0               2.0\n",
      "118                6.0               3.0                4.8               1.8\n",
      "119                6.5               2.8                4.6               1.5\n",
      "\n",
      "[120 rows x 4 columns]\n"
     ]
    }
   ],
   "source": [
    "import pandas as pd \n",
    "#create dataframe from the data that is available in the dataset \n",
    "#Label the column using the string in the dataset(iris_dataset.feature_names )\n",
    "\n",
    "iris_dataframe = pd.DataFrame (X_train, columns = iris_dataset.feature_names) \n",
    "print(iris_dataframe) \n"
   ]
  },
  {
   "cell_type": "code",
   "execution_count": 15,
   "id": "c095ce61",
   "metadata": {},
   "outputs": [
    {
     "data": {
      "image/png": "[encoded data removed]",
      "text/plain": [
       "<Figure size 432x288 with 16 Axes>"
      ]
     },
     "metadata": {
      "needs_background": "light"
     },
     "output_type": "display_data"
    }
   ],
   "source": [
    "grr = pd.plotting.scatter_matrix(iris_dataframe)"
   ]
  },
  {
   "cell_type": "code",
   "execution_count": 16,
   "id": "9bf94574",
   "metadata": {},
   "outputs": [
    {
     "data": {
      "text/plain": [
       "KNeighborsClassifier(n_neighbors=3)"
      ]
     },
     "execution_count": 16,
     "metadata": {},
     "output_type": "execute_result"
    }
   ],
   "source": [
    "from sklearn.neighbors import KNeighborsClassifier\n",
    "knn = KNeighborsClassifier(n_neighbors=3)\n",
    "knn.fit(X_train, Y_train)"
   ]
  },
  {
   "cell_type": "code",
   "execution_count": 17,
   "id": "ee33eccf",
   "metadata": {},
   "outputs": [
    {
     "name": "stdout",
     "output_type": "stream",
     "text": [
      "X_new.shape: (1, 4)\n"
     ]
    }
   ],
   "source": [
    "X_new=np.array([[5,2.9,1,0.2]])\n",
    "print(\"X_new.shape: {}\".format(X_new.shape))"
   ]
  },
  {
   "cell_type": "code",
   "execution_count": 18,
   "id": "8823cc95",
   "metadata": {},
   "outputs": [],
   "source": [
    "prediction = knn.predict(X_new)"
   ]
  },
  {
   "cell_type": "code",
   "execution_count": 19,
   "id": "86655541",
   "metadata": {},
   "outputs": [
    {
     "name": "stdout",
     "output_type": "stream",
     "text": [
      "prediction: [0]\n",
      "Predicted target name: ['setosa']\n"
     ]
    }
   ],
   "source": [
    "print(\"prediction: {}\".format(prediction))\n",
    "print(\"Predicted target name: {}\".format(iris_dataset['target_names'][prediction]))"
   ]
  },
  {
   "cell_type": "code",
   "execution_count": 22,
   "id": "a332dbac",
   "metadata": {},
   "outputs": [
    {
     "name": "stdout",
     "output_type": "stream",
     "text": [
      "Test set predictions: \n",
      " [1 1 1 1 2 0 2 0 1 1 1 2 0 2 2 0 0 0 2 0 2 1 2 0 1 2 1 2 0 0]\n"
     ]
    }
   ],
   "source": [
    "Y_pred=knn.predict(X_test)\n",
    "print(\"Test set predictions: \\n {}\".format(Y_pred))"
   ]
  },
  {
   "cell_type": "code",
   "execution_count": 23,
   "id": "624fbdb8",
   "metadata": {},
   "outputs": [
    {
     "name": "stdout",
     "output_type": "stream",
     "text": [
      "Test Set Score: 1.00\n"
     ]
    }
   ],
   "source": [
    "print(\"Test Set Score: {:.2f}\".format(np.mean(Y_pred==Y_test)))"
   ]
  },
  {
   "cell_type": "code",
   "execution_count": 24,
   "id": "2fa14051",
   "metadata": {},
   "outputs": [
    {
     "name": "stdout",
     "output_type": "stream",
     "text": [
      "Test Set Score: 1.00\n"
     ]
    }
   ],
   "source": [
    "print(\"Test Set Score: {:.2f}\".format(knn.score(X_test,Y_test)))"
   ]
  },
  {
   "cell_type": "code",
   "execution_count": null,
   "id": "7808ef3d",
   "metadata": {},
   "outputs": [],
   "source": []
  }
 ],
 "metadata": {
  "kernelspec": {
   "display_name": "Python 3 (ipykernel)",
   "language": "python",
   "name": "python3"
  },
  "language_info": {
   "codemirror_mode": {
    "name": "ipython",
    "version": 3
   },
   "file_extension": ".py",
   "mimetype": "text/x-python",
   "name": "python",
   "nbconvert_exporter": "python",
   "pygments_lexer": "ipython3",
   "version": "3.9.7"
  }
 },
 "nbformat": 4,
 "nbformat_minor": 5
}
